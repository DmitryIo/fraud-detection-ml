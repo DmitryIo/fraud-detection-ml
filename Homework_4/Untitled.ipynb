{
 "cells": [
  {
   "cell_type": "code",
   "execution_count": 53,
   "id": "b2e57935",
   "metadata": {},
   "outputs": [],
   "source": [
    "import findspark\n",
    "findspark.init()\n",
    "from pyspark.ml.feature import VectorAssembler\n",
    "from pyspark.ml.feature import StringIndexer\n",
    "from pyspark.ml.feature import OneHotEncoder, MinMaxScaler\n",
    "from hdfs.client import Client\n",
    "from pyspark.sql import SparkSession\n",
    "import sys\n",
    "import argparse\n",
    "\n",
    "\n",
    "\n",
    "def apply_pyspark_feature_one_column(df, feature, inputCols, outputCols, fit=True, transform=True):\n",
    "    configured_feature = feature().setInputCols(inputCols).setOutputCol(outputCols)\n",
    "    if fit:\n",
    "        df = configured_feature.fit(df)\n",
    "    if transform:\n",
    "        df = configured_feature.transform(df)   \n",
    "    return df\n",
    "\n",
    "def apply_pyspark_feature_multiple_columns(df, feature, inputCols, outputCols, fit=True, transform=True):\n",
    "    configured_feature = feature().setInputCols(inputCols).setOutputCols(outputCols)\n",
    "    if fit:\n",
    "        df = configured_feature.fit(df)\n",
    "        print(df)\n",
    "    if transform:\n",
    "        df = configured_feature.transform(df)   \n",
    "    return df\n",
    "\n"
   ]
  },
  {
   "cell_type": "code",
   "execution_count": 55,
   "id": "8ef55157",
   "metadata": {},
   "outputs": [
    {
     "name": "stdout",
     "output_type": "stream",
     "text": [
      "StringIndexerModel: uid=StringIndexer_e71900dd06f5, handleInvalid=error, numInputCols=1, numOutputCols=1\n"
     ]
    },
    {
     "ename": "AttributeError",
     "evalue": "'StringIndexer' object has no attribute 'transform'",
     "output_type": "error",
     "traceback": [
      "\u001b[0;31m---------------------------------------------------------------------------\u001b[0m",
      "\u001b[0;31mAttributeError\u001b[0m                            Traceback (most recent call last)",
      "\u001b[0;32m<ipython-input-55-d3c168e42fb6>\u001b[0m in \u001b[0;36m<module>\u001b[0;34m\u001b[0m\n\u001b[1;32m     21\u001b[0m \u001b[0;34m\u001b[0m\u001b[0m\n\u001b[1;32m     22\u001b[0m \u001b[0mnumeric\u001b[0m \u001b[0;34m=\u001b[0m \u001b[0mapply_pyspark_feature_one_column\u001b[0m\u001b[0;34m(\u001b[0m\u001b[0mdf\u001b[0m\u001b[0;34m,\u001b[0m \u001b[0mVectorAssembler\u001b[0m\u001b[0;34m,\u001b[0m \u001b[0minputCols\u001b[0m\u001b[0;34m=\u001b[0m\u001b[0mnumericColumns\u001b[0m\u001b[0;34m,\u001b[0m \u001b[0moutputCols\u001b[0m\u001b[0;34m=\u001b[0m\u001b[0;34m'features'\u001b[0m\u001b[0;34m,\u001b[0m \u001b[0mfit\u001b[0m\u001b[0;34m=\u001b[0m\u001b[0;32mFalse\u001b[0m\u001b[0;34m)\u001b[0m\u001b[0;34m\u001b[0m\u001b[0;34m\u001b[0m\u001b[0m\n\u001b[0;32m---> 23\u001b[0;31m \u001b[0mindexed\u001b[0m \u001b[0;34m=\u001b[0m \u001b[0mapply_pyspark_feature_multiple_columns\u001b[0m\u001b[0;34m(\u001b[0m\u001b[0mnumeric\u001b[0m\u001b[0;34m,\u001b[0m \u001b[0mStringIndexer\u001b[0m\u001b[0;34m,\u001b[0m \u001b[0minputCols\u001b[0m\u001b[0;34m=\u001b[0m\u001b[0mstringColumns\u001b[0m\u001b[0;34m,\u001b[0m \u001b[0moutputCols\u001b[0m\u001b[0;34m=\u001b[0m\u001b[0mstringColumnsIndexed\u001b[0m\u001b[0;34m)\u001b[0m\u001b[0;34m\u001b[0m\u001b[0;34m\u001b[0m\u001b[0m\n\u001b[0m\u001b[1;32m     24\u001b[0m \u001b[0;34m\u001b[0m\u001b[0m\n\u001b[1;32m     25\u001b[0m \u001b[0mcatColumns\u001b[0m \u001b[0;34m=\u001b[0m \u001b[0mlist\u001b[0m\u001b[0;34m(\u001b[0m\u001b[0mmap\u001b[0m\u001b[0;34m(\u001b[0m\u001b[0;32mlambda\u001b[0m \u001b[0mx\u001b[0m\u001b[0;34m:\u001b[0m \u001b[0mx\u001b[0m \u001b[0;34m+\u001b[0m \u001b[0;34m\"_Coded\"\u001b[0m\u001b[0;34m,\u001b[0m \u001b[0mstringColumnsIndexed\u001b[0m\u001b[0;34m)\u001b[0m\u001b[0;34m)\u001b[0m\u001b[0;34m\u001b[0m\u001b[0;34m\u001b[0m\u001b[0m\n",
      "\u001b[0;32m<ipython-input-53-27414b30dfdb>\u001b[0m in \u001b[0;36mapply_pyspark_feature_multiple_columns\u001b[0;34m(df, feature, inputCols, outputCols, fit, transform)\u001b[0m\n\u001b[1;32m     25\u001b[0m         \u001b[0mprint\u001b[0m\u001b[0;34m(\u001b[0m\u001b[0mdf\u001b[0m\u001b[0;34m)\u001b[0m\u001b[0;34m\u001b[0m\u001b[0;34m\u001b[0m\u001b[0m\n\u001b[1;32m     26\u001b[0m     \u001b[0;32mif\u001b[0m \u001b[0mtransform\u001b[0m\u001b[0;34m:\u001b[0m\u001b[0;34m\u001b[0m\u001b[0;34m\u001b[0m\u001b[0m\n\u001b[0;32m---> 27\u001b[0;31m         \u001b[0mdf\u001b[0m \u001b[0;34m=\u001b[0m \u001b[0mconfigured_feature\u001b[0m\u001b[0;34m.\u001b[0m\u001b[0mtransform\u001b[0m\u001b[0;34m(\u001b[0m\u001b[0mdf\u001b[0m\u001b[0;34m)\u001b[0m\u001b[0;34m\u001b[0m\u001b[0;34m\u001b[0m\u001b[0m\n\u001b[0m\u001b[1;32m     28\u001b[0m     \u001b[0;32mreturn\u001b[0m \u001b[0mdf\u001b[0m\u001b[0;34m\u001b[0m\u001b[0;34m\u001b[0m\u001b[0m\n\u001b[1;32m     29\u001b[0m \u001b[0;34m\u001b[0m\u001b[0m\n",
      "\u001b[0;31mAttributeError\u001b[0m: 'StringIndexer' object has no attribute 'transform'"
     ]
    }
   ],
   "source": [
    "#parser = argparse.ArgumentParser()\n",
    "#parser.add_argument(\"--partition\", help=\"some useful description.\")\n",
    "#args = parser.parse_args()\n",
    "#if args.partition:\n",
    "#    partition = args.partition\n",
    "#else:\n",
    "#    partition = sys.argv[1]\n",
    "partition = 18\n",
    "\n",
    "file_name = f\"/user/airflow/input_files/partition_{partition}.parquet\"\n",
    "target = 'TX_FRAUD'\n",
    "spark = SparkSession.builder.master(\"yarn\").getOrCreate()\n",
    "spark.conf.set(\"spark.sql.repl.eagerEval.enabled\", True)\n",
    "df = spark.read.format(\"parquet\").load(file_name)\n",
    "\n",
    "numericColumns = list(map(lambda x: x[0], \n",
    "                    filter(lambda x: x[1] == \"double\" or x[1] == \"int\", \n",
    "                        df.dtypes)))\n",
    "stringColumns = ['TERMINAL_ID']\n",
    "stringColumnsIndexed = list(map(lambda x: x + \"_Indexed\", stringColumns))\n",
    "\n",
    "numeric = apply_pyspark_feature_one_column(df, VectorAssembler, inputCols=numericColumns, outputCols='features', fit=False)\n",
    "indexed = apply_pyspark_feature_multiple_columns(numeric, StringIndexer, inputCols=stringColumns, outputCols=stringColumnsIndexed)\n",
    "\n",
    "catColumns = list(map(lambda x: x + \"_Coded\", stringColumnsIndexed))\n",
    "encoded = apply_pyspark_feature_multiple_columns(indexed, OneHotEncoder, inputCols=stringColumnsIndexed, outputCols=catColumns)\n",
    "scaled = apply_pyspark_feature_one_column(encoded, MinMaxScaler, inputCols=\"features\", outputCols=\"scaledFeatures\")\n",
    "\n",
    "featureColumns = ['scaledFeatures'] + catColumns\n",
    "\n",
    "result = apply_pyspark_feature_one_column(scaled, VectorAssembler, inputCols=featureColumns, outputCols=\"featuresFinal\", fit=False).select('featuresFinal', target)\n",
    "\n",
    "result.write.format(\"parquet\").mode(\"overwrite\").save(f\"/user/airflow/processed_files/partition_{partition}.parquet\")\n"
   ]
  },
  {
   "cell_type": "code",
   "execution_count": 56,
   "id": "46aaf946",
   "metadata": {},
   "outputs": [],
   "source": [
    "spark.stop()"
   ]
  },
  {
   "cell_type": "code",
   "execution_count": 43,
   "id": "650d099d",
   "metadata": {},
   "outputs": [
    {
     "data": {
      "text/plain": [
       "['TERMINAL_ID_Indexed']"
      ]
     },
     "execution_count": 43,
     "metadata": {},
     "output_type": "execute_result"
    }
   ],
   "source": [
    "stringColumnsIndexed"
   ]
  },
  {
   "cell_type": "code",
   "execution_count": 44,
   "id": "1c1a5333",
   "metadata": {},
   "outputs": [
    {
     "data": {
      "text/plain": [
       "['TERMINAL_ID_Indexed_Coded']"
      ]
     },
     "execution_count": 44,
     "metadata": {},
     "output_type": "execute_result"
    }
   ],
   "source": [
    "catColumns"
   ]
  },
  {
   "cell_type": "code",
   "execution_count": 24,
   "id": "aa5e42fa",
   "metadata": {},
   "outputs": [
    {
     "data": {
      "text/plain": [
       "'TERMINAL_ID_Indexed'"
      ]
     },
     "execution_count": 24,
     "metadata": {},
     "output_type": "execute_result"
    }
   ],
   "source": [
    "stringColumnsIndexed"
   ]
  },
  {
   "cell_type": "code",
   "execution_count": 12,
   "id": "b6d07c17",
   "metadata": {},
   "outputs": [
    {
     "data": {
      "text/plain": [
       "['TERMINAL_ID_Indexed']"
      ]
     },
     "execution_count": 12,
     "metadata": {},
     "output_type": "execute_result"
    }
   ],
   "source": [
    "stringColumnsIndexed"
   ]
  },
  {
   "cell_type": "code",
   "execution_count": 13,
   "id": "a0a207ef",
   "metadata": {},
   "outputs": [
    {
     "data": {
      "text/plain": [
       "['TERMINAL_ID']"
      ]
     },
     "execution_count": 13,
     "metadata": {},
     "output_type": "execute_result"
    }
   ],
   "source": [
    "stringColumns"
   ]
  },
  {
   "cell_type": "code",
   "execution_count": 15,
   "id": "53e7dcf4",
   "metadata": {},
   "outputs": [],
   "source": [
    "numeric = apply_pyspark_feature(df, VectorAssembler, inputCols=numericColumns, outputCols='features', fit=False)"
   ]
  },
  {
   "cell_type": "code",
   "execution_count": 16,
   "id": "38e52647",
   "metadata": {},
   "outputs": [
    {
     "data": {
      "text/plain": [
       "[('TRANSACTION_ID', 'bigint'),\n",
       " ('TX_DATETIME', 'timestamp'),\n",
       " ('CUSTOMER_ID', 'bigint'),\n",
       " ('TERMINAL_ID', 'bigint'),\n",
       " ('TX_AMOUNT', 'double'),\n",
       " ('TX_TIME_SECONDS', 'bigint'),\n",
       " ('TX_TIME_DAYS', 'bigint'),\n",
       " ('TX_FRAUD', 'bigint'),\n",
       " ('TX_FRAUD_SCENARIO', 'bigint'),\n",
       " ('features', 'vector')]"
      ]
     },
     "execution_count": 16,
     "metadata": {},
     "output_type": "execute_result"
    }
   ],
   "source": [
    "numeric.dtypes"
   ]
  },
  {
   "cell_type": "code",
   "execution_count": 14,
   "id": "628527a0",
   "metadata": {},
   "outputs": [
    {
     "data": {
      "text/html": [
       "<table border='1'>\n",
       "<tr><th>TRANSACTION_ID</th><th>TX_DATETIME</th><th>CUSTOMER_ID</th><th>TERMINAL_ID</th><th>TX_AMOUNT</th><th>TX_TIME_SECONDS</th><th>TX_TIME_DAYS</th><th>TX_FRAUD</th><th>TX_FRAUD_SCENARIO</th><th>features</th></tr>\n",
       "<tr><td>0</td><td>2018-04-01 00:51:53</td><td>14</td><td>28</td><td>7.47</td><td>3113</td><td>0</td><td>0</td><td>0</td><td>[7.47]</td></tr>\n",
       "<tr><td>1</td><td>2018-04-01 01:11:00</td><td>8</td><td>16</td><td>17.84</td><td>4260</td><td>0</td><td>0</td><td>0</td><td>[17.84]</td></tr>\n",
       "<tr><td>2</td><td>2018-04-01 01:18:19</td><td>181</td><td>20</td><td>156.38</td><td>4699</td><td>0</td><td>0</td><td>0</td><td>[156.38]</td></tr>\n",
       "<tr><td>3</td><td>2018-04-01 01:21:07</td><td>39</td><td>82</td><td>104.85</td><td>4867</td><td>0</td><td>0</td><td>0</td><td>[104.85]</td></tr>\n",
       "<tr><td>4</td><td>2018-04-01 01:28:15</td><td>298</td><td>24</td><td>11.9</td><td>5295</td><td>0</td><td>0</td><td>0</td><td>[11.9]</td></tr>\n",
       "<tr><td>5</td><td>2018-04-01 01:42:41</td><td>64</td><td>78</td><td>57.73</td><td>6161</td><td>0</td><td>0</td><td>0</td><td>[57.73]</td></tr>\n",
       "<tr><td>6</td><td>2018-04-01 01:57:13</td><td>242</td><td>95</td><td>30.75</td><td>7033</td><td>0</td><td>0</td><td>0</td><td>[30.75]</td></tr>\n",
       "<tr><td>7</td><td>2018-04-01 01:59:15</td><td>159</td><td>10</td><td>68.81</td><td>7155</td><td>0</td><td>0</td><td>0</td><td>[68.81]</td></tr>\n",
       "<tr><td>8</td><td>2018-04-01 02:11:29</td><td>451</td><td>55</td><td>50.34</td><td>7889</td><td>0</td><td>0</td><td>0</td><td>[50.34]</td></tr>\n",
       "<tr><td>9</td><td>2018-04-01 02:13:54</td><td>354</td><td>49</td><td>55.71</td><td>8034</td><td>0</td><td>0</td><td>0</td><td>[55.71]</td></tr>\n",
       "<tr><td>10</td><td>2018-04-01 02:22:02</td><td>447</td><td>53</td><td>106.84</td><td>8522</td><td>0</td><td>0</td><td>0</td><td>[106.84]</td></tr>\n",
       "<tr><td>11</td><td>2018-04-01 02:33:41</td><td>177</td><td>19</td><td>85.4</td><td>9221</td><td>0</td><td>0</td><td>0</td><td>[85.4]</td></tr>\n",
       "<tr><td>12</td><td>2018-04-01 02:34:07</td><td>495</td><td>4</td><td>10.12</td><td>9247</td><td>0</td><td>0</td><td>0</td><td>[10.12]</td></tr>\n",
       "<tr><td>13</td><td>2018-04-01 02:36:35</td><td>139</td><td>58</td><td>43.28</td><td>9395</td><td>0</td><td>0</td><td>0</td><td>[43.28]</td></tr>\n",
       "<tr><td>14</td><td>2018-04-01 02:38:18</td><td>97</td><td>44</td><td>28.86</td><td>9498</td><td>0</td><td>0</td><td>0</td><td>[28.86]</td></tr>\n",
       "<tr><td>15</td><td>2018-04-01 02:46:37</td><td>278</td><td>94</td><td>90.04</td><td>9997</td><td>0</td><td>0</td><td>0</td><td>[90.04]</td></tr>\n",
       "<tr><td>16</td><td>2018-04-01 02:47:11</td><td>128</td><td>80</td><td>28.83</td><td>10031</td><td>0</td><td>0</td><td>0</td><td>[28.83]</td></tr>\n",
       "<tr><td>17</td><td>2018-04-01 02:55:03</td><td>458</td><td>60</td><td>7.45</td><td>10503</td><td>0</td><td>0</td><td>0</td><td>[7.45]</td></tr>\n",
       "<tr><td>18</td><td>2018-04-01 02:56:16</td><td>226</td><td>99</td><td>30.72</td><td>10576</td><td>0</td><td>0</td><td>0</td><td>[30.72]</td></tr>\n",
       "<tr><td>19</td><td>2018-04-01 02:56:56</td><td>3</td><td>6</td><td>32.19</td><td>10616</td><td>0</td><td>0</td><td>0</td><td>[32.19]</td></tr>\n",
       "</table>\n",
       "only showing top 20 rows\n"
      ],
      "text/plain": [
       "+--------------+-------------------+-----------+-----------+---------+---------------+------------+--------+-----------------+--------+\n",
       "|TRANSACTION_ID|        TX_DATETIME|CUSTOMER_ID|TERMINAL_ID|TX_AMOUNT|TX_TIME_SECONDS|TX_TIME_DAYS|TX_FRAUD|TX_FRAUD_SCENARIO|features|\n",
       "+--------------+-------------------+-----------+-----------+---------+---------------+------------+--------+-----------------+--------+\n",
       "|             0|2018-04-01 00:51:53|         14|         28|     7.47|           3113|           0|       0|                0|  [7.47]|\n",
       "|             1|2018-04-01 01:11:00|          8|         16|    17.84|           4260|           0|       0|                0| [17.84]|\n",
       "|             2|2018-04-01 01:18:19|        181|         20|   156.38|           4699|           0|       0|                0|[156.38]|\n",
       "|             3|2018-04-01 01:21:07|         39|         82|   104.85|           4867|           0|       0|                0|[104.85]|\n",
       "|             4|2018-04-01 01:28:15|        298|         24|     11.9|           5295|           0|       0|                0|  [11.9]|\n",
       "|             5|2018-04-01 01:42:41|         64|         78|    57.73|           6161|           0|       0|                0| [57.73]|\n",
       "|             6|2018-04-01 01:57:13|        242|         95|    30.75|           7033|           0|       0|                0| [30.75]|\n",
       "|             7|2018-04-01 01:59:15|        159|         10|    68.81|           7155|           0|       0|                0| [68.81]|\n",
       "|             8|2018-04-01 02:11:29|        451|         55|    50.34|           7889|           0|       0|                0| [50.34]|\n",
       "|             9|2018-04-01 02:13:54|        354|         49|    55.71|           8034|           0|       0|                0| [55.71]|\n",
       "|            10|2018-04-01 02:22:02|        447|         53|   106.84|           8522|           0|       0|                0|[106.84]|\n",
       "|            11|2018-04-01 02:33:41|        177|         19|     85.4|           9221|           0|       0|                0|  [85.4]|\n",
       "|            12|2018-04-01 02:34:07|        495|          4|    10.12|           9247|           0|       0|                0| [10.12]|\n",
       "|            13|2018-04-01 02:36:35|        139|         58|    43.28|           9395|           0|       0|                0| [43.28]|\n",
       "|            14|2018-04-01 02:38:18|         97|         44|    28.86|           9498|           0|       0|                0| [28.86]|\n",
       "|            15|2018-04-01 02:46:37|        278|         94|    90.04|           9997|           0|       0|                0| [90.04]|\n",
       "|            16|2018-04-01 02:47:11|        128|         80|    28.83|          10031|           0|       0|                0| [28.83]|\n",
       "|            17|2018-04-01 02:55:03|        458|         60|     7.45|          10503|           0|       0|                0|  [7.45]|\n",
       "|            18|2018-04-01 02:56:16|        226|         99|    30.72|          10576|           0|       0|                0| [30.72]|\n",
       "|            19|2018-04-01 02:56:56|          3|          6|    32.19|          10616|           0|       0|                0| [32.19]|\n",
       "+--------------+-------------------+-----------+-----------+---------+---------------+------------+--------+-----------------+--------+\n",
       "only showing top 20 rows"
      ]
     },
     "execution_count": 14,
     "metadata": {},
     "output_type": "execute_result"
    }
   ],
   "source": [
    "numeric"
   ]
  },
  {
   "cell_type": "code",
   "execution_count": null,
   "id": "3c07f324",
   "metadata": {},
   "outputs": [],
   "source": [
    "numeric.show(10)"
   ]
  },
  {
   "cell_type": "code",
   "execution_count": null,
   "id": "855a9160",
   "metadata": {},
   "outputs": [],
   "source": []
  }
 ],
 "metadata": {
  "kernelspec": {
   "display_name": "Python 3",
   "language": "python",
   "name": "python3"
  },
  "language_info": {
   "codemirror_mode": {
    "name": "ipython",
    "version": 3
   },
   "file_extension": ".py",
   "mimetype": "text/x-python",
   "name": "python",
   "nbconvert_exporter": "python",
   "pygments_lexer": "ipython3",
   "version": "3.8.10"
  }
 },
 "nbformat": 4,
 "nbformat_minor": 5
}
